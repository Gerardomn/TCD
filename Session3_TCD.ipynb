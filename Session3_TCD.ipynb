{
  "nbformat": 4,
  "nbformat_minor": 0,
  "metadata": {
    "colab": {
      "name": "Session3_TCD.ipynb",
      "provenance": [],
      "collapsed_sections": [],
      "authorship_tag": "ABX9TyM5HzNsRpCOWKcehpGx2xDj",
      "include_colab_link": true
    },
    "kernelspec": {
      "name": "python3",
      "display_name": "Python 3"
    }
  },
  "cells": [
    {
      "cell_type": "markdown",
      "metadata": {
        "id": "view-in-github",
        "colab_type": "text"
      },
      "source": [
        "<a href=\"https://colab.research.google.com/github/Gerardomn/TCD/blob/master/Session3_TCD.ipynb\" target=\"_parent\"><img src=\"https://colab.research.google.com/assets/colab-badge.svg\" alt=\"Open In Colab\"/></a>"
      ]
    },
    {
      "cell_type": "markdown",
      "metadata": {
        "id": "5UdE64vPxl-q",
        "colab_type": "text"
      },
      "source": [
        "**Utilización de un método de regresión lineal para generar un modelo que permita realizar un mantenimiento predictivo, a partir de datos de un conjunto de sensores de turbinas hidraulicas**"
      ]
    },
    {
      "cell_type": "code",
      "metadata": {
        "id": "w7DhXbaRwxD_",
        "colab_type": "code",
        "colab": {}
      },
      "source": [
        "import pandas as pd\n",
        "import numpy as np\n",
        "import matplotlib.pyplot as plt"
      ],
      "execution_count": 0,
      "outputs": []
    },
    {
      "cell_type": "code",
      "metadata": {
        "id": "GufAx_j81xZo",
        "colab_type": "code",
        "colab": {}
      },
      "source": [
        "train = \"https://raw.githubusercontent.com/htapia/TallerPythonIntroCienciaDatos/ciia/notebooks/data/PM_train.txt\" #iportar datos desde una url"
      ],
      "execution_count": 0,
      "outputs": []
    },
    {
      "cell_type": "code",
      "metadata": {
        "id": "iyPB8Puy68DA",
        "colab_type": "code",
        "colab": {
          "base_uri": "https://localhost:8080/",
          "height": 34
        },
        "outputId": "2716d93a-d1ac-43e2-de29-22f4e8cc4a9a"
      },
      "source": [
        "train"
      ],
      "execution_count": 5,
      "outputs": [
        {
          "output_type": "execute_result",
          "data": {
            "text/plain": [
              "'https://raw.githubusercontent.com/htapia/TallerPythonIntroCienciaDatos/ciia/notebooks/data/PM_train.txt'"
            ]
          },
          "metadata": {
            "tags": []
          },
          "execution_count": 5
        }
      ]
    },
    {
      "cell_type": "markdown",
      "metadata": {
        "id": "WUm9KjDp3N5o",
        "colab_type": "text"
      },
      "source": [
        "*Al generar el dataframe directamente de train, la primera línea la toma como encabezado. Como se observa al ejecutar la siguiente línea.*"
      ]
    },
    {
      "cell_type": "code",
      "metadata": {
        "id": "EEUbqVX16_80",
        "colab_type": "code",
        "colab": {}
      },
      "source": [
        "pd.read_csv(train)"
      ],
      "execution_count": 0,
      "outputs": []
    },
    {
      "cell_type": "markdown",
      "metadata": {
        "id": "bKhfb1-n8vAF",
        "colab_type": "text"
      },
      "source": [
        "*Es por eso que se escribe la siguiente línea, para generar un dataframe adecuado.*"
      ]
    },
    {
      "cell_type": "code",
      "metadata": {
        "id": "cWU0JIc72cbt",
        "colab_type": "code",
        "colab": {
          "base_uri": "https://localhost:8080/",
          "height": 224
        },
        "outputId": "c59b5e4b-ad9e-4792-b49c-307b29c6f3ff"
      },
      "source": [
        "dfTrain = pd.read_csv(train, sep=' ',header=None) #sep es para indicar que la separación entre datos sea un espacio en blanco\n",
        "dfTrain.head() #header es para especificar que el encabezado conste sólo de índices"
      ],
      "execution_count": 4,
      "outputs": [
        {
          "output_type": "execute_result",
          "data": {
            "text/html": [
              "<div>\n",
              "<style scoped>\n",
              "    .dataframe tbody tr th:only-of-type {\n",
              "        vertical-align: middle;\n",
              "    }\n",
              "\n",
              "    .dataframe tbody tr th {\n",
              "        vertical-align: top;\n",
              "    }\n",
              "\n",
              "    .dataframe thead th {\n",
              "        text-align: right;\n",
              "    }\n",
              "</style>\n",
              "<table border=\"1\" class=\"dataframe\">\n",
              "  <thead>\n",
              "    <tr style=\"text-align: right;\">\n",
              "      <th></th>\n",
              "      <th>0</th>\n",
              "      <th>1</th>\n",
              "      <th>2</th>\n",
              "      <th>3</th>\n",
              "      <th>4</th>\n",
              "      <th>5</th>\n",
              "      <th>6</th>\n",
              "      <th>7</th>\n",
              "      <th>8</th>\n",
              "      <th>9</th>\n",
              "      <th>10</th>\n",
              "      <th>11</th>\n",
              "      <th>12</th>\n",
              "      <th>13</th>\n",
              "      <th>14</th>\n",
              "      <th>15</th>\n",
              "      <th>16</th>\n",
              "      <th>17</th>\n",
              "      <th>18</th>\n",
              "      <th>19</th>\n",
              "      <th>20</th>\n",
              "      <th>21</th>\n",
              "      <th>22</th>\n",
              "      <th>23</th>\n",
              "      <th>24</th>\n",
              "      <th>25</th>\n",
              "      <th>26</th>\n",
              "      <th>27</th>\n",
              "    </tr>\n",
              "  </thead>\n",
              "  <tbody>\n",
              "    <tr>\n",
              "      <th>0</th>\n",
              "      <td>1</td>\n",
              "      <td>1</td>\n",
              "      <td>-0.0007</td>\n",
              "      <td>-0.0004</td>\n",
              "      <td>100.0</td>\n",
              "      <td>518.67</td>\n",
              "      <td>641.82</td>\n",
              "      <td>1589.70</td>\n",
              "      <td>1400.60</td>\n",
              "      <td>14.62</td>\n",
              "      <td>21.61</td>\n",
              "      <td>554.36</td>\n",
              "      <td>2388.06</td>\n",
              "      <td>9046.19</td>\n",
              "      <td>1.3</td>\n",
              "      <td>47.47</td>\n",
              "      <td>521.66</td>\n",
              "      <td>2388.02</td>\n",
              "      <td>8138.62</td>\n",
              "      <td>8.4195</td>\n",
              "      <td>0.03</td>\n",
              "      <td>392</td>\n",
              "      <td>2388</td>\n",
              "      <td>100.0</td>\n",
              "      <td>39.06</td>\n",
              "      <td>23.4190</td>\n",
              "      <td>NaN</td>\n",
              "      <td>NaN</td>\n",
              "    </tr>\n",
              "    <tr>\n",
              "      <th>1</th>\n",
              "      <td>1</td>\n",
              "      <td>2</td>\n",
              "      <td>0.0019</td>\n",
              "      <td>-0.0003</td>\n",
              "      <td>100.0</td>\n",
              "      <td>518.67</td>\n",
              "      <td>642.15</td>\n",
              "      <td>1591.82</td>\n",
              "      <td>1403.14</td>\n",
              "      <td>14.62</td>\n",
              "      <td>21.61</td>\n",
              "      <td>553.75</td>\n",
              "      <td>2388.04</td>\n",
              "      <td>9044.07</td>\n",
              "      <td>1.3</td>\n",
              "      <td>47.49</td>\n",
              "      <td>522.28</td>\n",
              "      <td>2388.07</td>\n",
              "      <td>8131.49</td>\n",
              "      <td>8.4318</td>\n",
              "      <td>0.03</td>\n",
              "      <td>392</td>\n",
              "      <td>2388</td>\n",
              "      <td>100.0</td>\n",
              "      <td>39.00</td>\n",
              "      <td>23.4236</td>\n",
              "      <td>NaN</td>\n",
              "      <td>NaN</td>\n",
              "    </tr>\n",
              "    <tr>\n",
              "      <th>2</th>\n",
              "      <td>1</td>\n",
              "      <td>3</td>\n",
              "      <td>-0.0043</td>\n",
              "      <td>0.0003</td>\n",
              "      <td>100.0</td>\n",
              "      <td>518.67</td>\n",
              "      <td>642.35</td>\n",
              "      <td>1587.99</td>\n",
              "      <td>1404.20</td>\n",
              "      <td>14.62</td>\n",
              "      <td>21.61</td>\n",
              "      <td>554.26</td>\n",
              "      <td>2388.08</td>\n",
              "      <td>9052.94</td>\n",
              "      <td>1.3</td>\n",
              "      <td>47.27</td>\n",
              "      <td>522.42</td>\n",
              "      <td>2388.03</td>\n",
              "      <td>8133.23</td>\n",
              "      <td>8.4178</td>\n",
              "      <td>0.03</td>\n",
              "      <td>390</td>\n",
              "      <td>2388</td>\n",
              "      <td>100.0</td>\n",
              "      <td>38.95</td>\n",
              "      <td>23.3442</td>\n",
              "      <td>NaN</td>\n",
              "      <td>NaN</td>\n",
              "    </tr>\n",
              "    <tr>\n",
              "      <th>3</th>\n",
              "      <td>1</td>\n",
              "      <td>4</td>\n",
              "      <td>0.0007</td>\n",
              "      <td>0.0000</td>\n",
              "      <td>100.0</td>\n",
              "      <td>518.67</td>\n",
              "      <td>642.35</td>\n",
              "      <td>1582.79</td>\n",
              "      <td>1401.87</td>\n",
              "      <td>14.62</td>\n",
              "      <td>21.61</td>\n",
              "      <td>554.45</td>\n",
              "      <td>2388.11</td>\n",
              "      <td>9049.48</td>\n",
              "      <td>1.3</td>\n",
              "      <td>47.13</td>\n",
              "      <td>522.86</td>\n",
              "      <td>2388.08</td>\n",
              "      <td>8133.83</td>\n",
              "      <td>8.3682</td>\n",
              "      <td>0.03</td>\n",
              "      <td>392</td>\n",
              "      <td>2388</td>\n",
              "      <td>100.0</td>\n",
              "      <td>38.88</td>\n",
              "      <td>23.3739</td>\n",
              "      <td>NaN</td>\n",
              "      <td>NaN</td>\n",
              "    </tr>\n",
              "    <tr>\n",
              "      <th>4</th>\n",
              "      <td>1</td>\n",
              "      <td>5</td>\n",
              "      <td>-0.0019</td>\n",
              "      <td>-0.0002</td>\n",
              "      <td>100.0</td>\n",
              "      <td>518.67</td>\n",
              "      <td>642.37</td>\n",
              "      <td>1582.85</td>\n",
              "      <td>1406.22</td>\n",
              "      <td>14.62</td>\n",
              "      <td>21.61</td>\n",
              "      <td>554.00</td>\n",
              "      <td>2388.06</td>\n",
              "      <td>9055.15</td>\n",
              "      <td>1.3</td>\n",
              "      <td>47.28</td>\n",
              "      <td>522.19</td>\n",
              "      <td>2388.04</td>\n",
              "      <td>8133.80</td>\n",
              "      <td>8.4294</td>\n",
              "      <td>0.03</td>\n",
              "      <td>393</td>\n",
              "      <td>2388</td>\n",
              "      <td>100.0</td>\n",
              "      <td>38.90</td>\n",
              "      <td>23.4044</td>\n",
              "      <td>NaN</td>\n",
              "      <td>NaN</td>\n",
              "    </tr>\n",
              "  </tbody>\n",
              "</table>\n",
              "</div>"
            ],
            "text/plain": [
              "   0   1       2       3      4       5   ...    22     23     24       25  26  27\n",
              "0   1   1 -0.0007 -0.0004  100.0  518.67  ...  2388  100.0  39.06  23.4190 NaN NaN\n",
              "1   1   2  0.0019 -0.0003  100.0  518.67  ...  2388  100.0  39.00  23.4236 NaN NaN\n",
              "2   1   3 -0.0043  0.0003  100.0  518.67  ...  2388  100.0  38.95  23.3442 NaN NaN\n",
              "3   1   4  0.0007  0.0000  100.0  518.67  ...  2388  100.0  38.88  23.3739 NaN NaN\n",
              "4   1   5 -0.0019 -0.0002  100.0  518.67  ...  2388  100.0  38.90  23.4044 NaN NaN\n",
              "\n",
              "[5 rows x 28 columns]"
            ]
          },
          "metadata": {
            "tags": []
          },
          "execution_count": 4
        }
      ]
    },
    {
      "cell_type": "markdown",
      "metadata": {
        "id": "OcEKaeyz8-o8",
        "colab_type": "text"
      },
      "source": [
        "*De acuerdo con la información que se conoce a priori del conjunto de datos, se genera la siguiente lista para funcionar como los nombres de columnas del dataframe*"
      ]
    },
    {
      "cell_type": "code",
      "metadata": {
        "id": "pzWlTZkJ2qS6",
        "colab_type": "code",
        "colab": {}
      },
      "source": [
        "colNames = ['id','cycle','setting1','setting2','setting3', \\\n",
        "            's1','s2','s3','s4','s5','s6','s7','s8','s9','s10', \\\n",
        "            's11','s12','s13','s14','s15','s16','s17','s18','s19', \\\n",
        "            's20','s21']"
      ],
      "execution_count": 0,
      "outputs": []
    },
    {
      "cell_type": "code",
      "metadata": {
        "id": "Tdf4fXTB37Da",
        "colab_type": "code",
        "colab": {
          "base_uri": "https://localhost:8080/",
          "height": 68
        },
        "outputId": "08051f93-6b65-48dd-f82b-543dc02063e4"
      },
      "source": [
        "dfTrain.drop([26,27], axis=1,inplace=True) #inplace por default no modifica el data frame\n",
        "dfTrain.columns #drop elimina renglones o columnas"
      ],
      "execution_count": 16,
      "outputs": [
        {
          "output_type": "execute_result",
          "data": {
            "text/plain": [
              "Int64Index([ 0,  1,  2,  3,  4,  5,  6,  7,  8,  9, 10, 11, 12, 13, 14, 15, 16,\n",
              "            17, 18, 19, 20, 21, 22, 23, 24, 25],\n",
              "           dtype='int64')"
            ]
          },
          "metadata": {
            "tags": []
          },
          "execution_count": 16
        }
      ]
    },
    {
      "cell_type": "code",
      "metadata": {
        "id": "lcrtcBEh4qg9",
        "colab_type": "code",
        "colab": {
          "base_uri": "https://localhost:8080/",
          "height": 224
        },
        "outputId": "8d33a2e0-5744-414f-bae8-031e2e971f08"
      },
      "source": [
        "dfTrain.columns = colNames #se añade la columna de encabezados definida como columns\n",
        "dfTrain.head() #muestra los primeros cinco renglones"
      ],
      "execution_count": 17,
      "outputs": [
        {
          "output_type": "execute_result",
          "data": {
            "text/html": [
              "<div>\n",
              "<style scoped>\n",
              "    .dataframe tbody tr th:only-of-type {\n",
              "        vertical-align: middle;\n",
              "    }\n",
              "\n",
              "    .dataframe tbody tr th {\n",
              "        vertical-align: top;\n",
              "    }\n",
              "\n",
              "    .dataframe thead th {\n",
              "        text-align: right;\n",
              "    }\n",
              "</style>\n",
              "<table border=\"1\" class=\"dataframe\">\n",
              "  <thead>\n",
              "    <tr style=\"text-align: right;\">\n",
              "      <th></th>\n",
              "      <th>id</th>\n",
              "      <th>cycle</th>\n",
              "      <th>setting1</th>\n",
              "      <th>setting2</th>\n",
              "      <th>setting3</th>\n",
              "      <th>s1</th>\n",
              "      <th>s2</th>\n",
              "      <th>s3</th>\n",
              "      <th>s4</th>\n",
              "      <th>s5</th>\n",
              "      <th>s6</th>\n",
              "      <th>s7</th>\n",
              "      <th>s8</th>\n",
              "      <th>s9</th>\n",
              "      <th>s10</th>\n",
              "      <th>s11</th>\n",
              "      <th>s12</th>\n",
              "      <th>s13</th>\n",
              "      <th>s14</th>\n",
              "      <th>s15</th>\n",
              "      <th>s16</th>\n",
              "      <th>s17</th>\n",
              "      <th>s18</th>\n",
              "      <th>s19</th>\n",
              "      <th>s20</th>\n",
              "      <th>s21</th>\n",
              "    </tr>\n",
              "  </thead>\n",
              "  <tbody>\n",
              "    <tr>\n",
              "      <th>0</th>\n",
              "      <td>1</td>\n",
              "      <td>1</td>\n",
              "      <td>-0.0007</td>\n",
              "      <td>-0.0004</td>\n",
              "      <td>100.0</td>\n",
              "      <td>518.67</td>\n",
              "      <td>641.82</td>\n",
              "      <td>1589.70</td>\n",
              "      <td>1400.60</td>\n",
              "      <td>14.62</td>\n",
              "      <td>21.61</td>\n",
              "      <td>554.36</td>\n",
              "      <td>2388.06</td>\n",
              "      <td>9046.19</td>\n",
              "      <td>1.3</td>\n",
              "      <td>47.47</td>\n",
              "      <td>521.66</td>\n",
              "      <td>2388.02</td>\n",
              "      <td>8138.62</td>\n",
              "      <td>8.4195</td>\n",
              "      <td>0.03</td>\n",
              "      <td>392</td>\n",
              "      <td>2388</td>\n",
              "      <td>100.0</td>\n",
              "      <td>39.06</td>\n",
              "      <td>23.4190</td>\n",
              "    </tr>\n",
              "    <tr>\n",
              "      <th>1</th>\n",
              "      <td>1</td>\n",
              "      <td>2</td>\n",
              "      <td>0.0019</td>\n",
              "      <td>-0.0003</td>\n",
              "      <td>100.0</td>\n",
              "      <td>518.67</td>\n",
              "      <td>642.15</td>\n",
              "      <td>1591.82</td>\n",
              "      <td>1403.14</td>\n",
              "      <td>14.62</td>\n",
              "      <td>21.61</td>\n",
              "      <td>553.75</td>\n",
              "      <td>2388.04</td>\n",
              "      <td>9044.07</td>\n",
              "      <td>1.3</td>\n",
              "      <td>47.49</td>\n",
              "      <td>522.28</td>\n",
              "      <td>2388.07</td>\n",
              "      <td>8131.49</td>\n",
              "      <td>8.4318</td>\n",
              "      <td>0.03</td>\n",
              "      <td>392</td>\n",
              "      <td>2388</td>\n",
              "      <td>100.0</td>\n",
              "      <td>39.00</td>\n",
              "      <td>23.4236</td>\n",
              "    </tr>\n",
              "    <tr>\n",
              "      <th>2</th>\n",
              "      <td>1</td>\n",
              "      <td>3</td>\n",
              "      <td>-0.0043</td>\n",
              "      <td>0.0003</td>\n",
              "      <td>100.0</td>\n",
              "      <td>518.67</td>\n",
              "      <td>642.35</td>\n",
              "      <td>1587.99</td>\n",
              "      <td>1404.20</td>\n",
              "      <td>14.62</td>\n",
              "      <td>21.61</td>\n",
              "      <td>554.26</td>\n",
              "      <td>2388.08</td>\n",
              "      <td>9052.94</td>\n",
              "      <td>1.3</td>\n",
              "      <td>47.27</td>\n",
              "      <td>522.42</td>\n",
              "      <td>2388.03</td>\n",
              "      <td>8133.23</td>\n",
              "      <td>8.4178</td>\n",
              "      <td>0.03</td>\n",
              "      <td>390</td>\n",
              "      <td>2388</td>\n",
              "      <td>100.0</td>\n",
              "      <td>38.95</td>\n",
              "      <td>23.3442</td>\n",
              "    </tr>\n",
              "    <tr>\n",
              "      <th>3</th>\n",
              "      <td>1</td>\n",
              "      <td>4</td>\n",
              "      <td>0.0007</td>\n",
              "      <td>0.0000</td>\n",
              "      <td>100.0</td>\n",
              "      <td>518.67</td>\n",
              "      <td>642.35</td>\n",
              "      <td>1582.79</td>\n",
              "      <td>1401.87</td>\n",
              "      <td>14.62</td>\n",
              "      <td>21.61</td>\n",
              "      <td>554.45</td>\n",
              "      <td>2388.11</td>\n",
              "      <td>9049.48</td>\n",
              "      <td>1.3</td>\n",
              "      <td>47.13</td>\n",
              "      <td>522.86</td>\n",
              "      <td>2388.08</td>\n",
              "      <td>8133.83</td>\n",
              "      <td>8.3682</td>\n",
              "      <td>0.03</td>\n",
              "      <td>392</td>\n",
              "      <td>2388</td>\n",
              "      <td>100.0</td>\n",
              "      <td>38.88</td>\n",
              "      <td>23.3739</td>\n",
              "    </tr>\n",
              "    <tr>\n",
              "      <th>4</th>\n",
              "      <td>1</td>\n",
              "      <td>5</td>\n",
              "      <td>-0.0019</td>\n",
              "      <td>-0.0002</td>\n",
              "      <td>100.0</td>\n",
              "      <td>518.67</td>\n",
              "      <td>642.37</td>\n",
              "      <td>1582.85</td>\n",
              "      <td>1406.22</td>\n",
              "      <td>14.62</td>\n",
              "      <td>21.61</td>\n",
              "      <td>554.00</td>\n",
              "      <td>2388.06</td>\n",
              "      <td>9055.15</td>\n",
              "      <td>1.3</td>\n",
              "      <td>47.28</td>\n",
              "      <td>522.19</td>\n",
              "      <td>2388.04</td>\n",
              "      <td>8133.80</td>\n",
              "      <td>8.4294</td>\n",
              "      <td>0.03</td>\n",
              "      <td>393</td>\n",
              "      <td>2388</td>\n",
              "      <td>100.0</td>\n",
              "      <td>38.90</td>\n",
              "      <td>23.4044</td>\n",
              "    </tr>\n",
              "  </tbody>\n",
              "</table>\n",
              "</div>"
            ],
            "text/plain": [
              "   id  cycle  setting1  setting2  setting3  ...  s17   s18    s19    s20      s21\n",
              "0   1      1   -0.0007   -0.0004     100.0  ...  392  2388  100.0  39.06  23.4190\n",
              "1   1      2    0.0019   -0.0003     100.0  ...  392  2388  100.0  39.00  23.4236\n",
              "2   1      3   -0.0043    0.0003     100.0  ...  390  2388  100.0  38.95  23.3442\n",
              "3   1      4    0.0007    0.0000     100.0  ...  392  2388  100.0  38.88  23.3739\n",
              "4   1      5   -0.0019   -0.0002     100.0  ...  393  2388  100.0  38.90  23.4044\n",
              "\n",
              "[5 rows x 26 columns]"
            ]
          },
          "metadata": {
            "tags": []
          },
          "execution_count": 17
        }
      ]
    },
    {
      "cell_type": "code",
      "metadata": {
        "id": "eLpho8t3482a",
        "colab_type": "code",
        "colab": {
          "base_uri": "https://localhost:8080/",
          "height": 317
        },
        "outputId": "ad5aa860-3d04-47c6-bd48-c1b174a7d350"
      },
      "source": [
        "dfTrain.describe()"
      ],
      "execution_count": 18,
      "outputs": [
        {
          "output_type": "execute_result",
          "data": {
            "text/html": [
              "<div>\n",
              "<style scoped>\n",
              "    .dataframe tbody tr th:only-of-type {\n",
              "        vertical-align: middle;\n",
              "    }\n",
              "\n",
              "    .dataframe tbody tr th {\n",
              "        vertical-align: top;\n",
              "    }\n",
              "\n",
              "    .dataframe thead th {\n",
              "        text-align: right;\n",
              "    }\n",
              "</style>\n",
              "<table border=\"1\" class=\"dataframe\">\n",
              "  <thead>\n",
              "    <tr style=\"text-align: right;\">\n",
              "      <th></th>\n",
              "      <th>id</th>\n",
              "      <th>cycle</th>\n",
              "      <th>setting1</th>\n",
              "      <th>setting2</th>\n",
              "      <th>setting3</th>\n",
              "      <th>s1</th>\n",
              "      <th>s2</th>\n",
              "      <th>s3</th>\n",
              "      <th>s4</th>\n",
              "      <th>s5</th>\n",
              "      <th>s6</th>\n",
              "      <th>s7</th>\n",
              "      <th>s8</th>\n",
              "      <th>s9</th>\n",
              "      <th>s10</th>\n",
              "      <th>s11</th>\n",
              "      <th>s12</th>\n",
              "      <th>s13</th>\n",
              "      <th>s14</th>\n",
              "      <th>s15</th>\n",
              "      <th>s16</th>\n",
              "      <th>s17</th>\n",
              "      <th>s18</th>\n",
              "      <th>s19</th>\n",
              "      <th>s20</th>\n",
              "      <th>s21</th>\n",
              "    </tr>\n",
              "  </thead>\n",
              "  <tbody>\n",
              "    <tr>\n",
              "      <th>count</th>\n",
              "      <td>20631.000000</td>\n",
              "      <td>20631.000000</td>\n",
              "      <td>20631.000000</td>\n",
              "      <td>20631.000000</td>\n",
              "      <td>20631.0</td>\n",
              "      <td>2.063100e+04</td>\n",
              "      <td>20631.000000</td>\n",
              "      <td>20631.000000</td>\n",
              "      <td>20631.000000</td>\n",
              "      <td>2.063100e+04</td>\n",
              "      <td>20631.000000</td>\n",
              "      <td>20631.000000</td>\n",
              "      <td>20631.000000</td>\n",
              "      <td>20631.000000</td>\n",
              "      <td>2.063100e+04</td>\n",
              "      <td>20631.000000</td>\n",
              "      <td>20631.000000</td>\n",
              "      <td>20631.000000</td>\n",
              "      <td>20631.000000</td>\n",
              "      <td>20631.000000</td>\n",
              "      <td>2.063100e+04</td>\n",
              "      <td>20631.000000</td>\n",
              "      <td>20631.0</td>\n",
              "      <td>20631.0</td>\n",
              "      <td>20631.000000</td>\n",
              "      <td>20631.000000</td>\n",
              "    </tr>\n",
              "    <tr>\n",
              "      <th>mean</th>\n",
              "      <td>51.506568</td>\n",
              "      <td>108.807862</td>\n",
              "      <td>-0.000009</td>\n",
              "      <td>0.000002</td>\n",
              "      <td>100.0</td>\n",
              "      <td>5.186700e+02</td>\n",
              "      <td>642.680934</td>\n",
              "      <td>1590.523119</td>\n",
              "      <td>1408.933782</td>\n",
              "      <td>1.462000e+01</td>\n",
              "      <td>21.609803</td>\n",
              "      <td>553.367711</td>\n",
              "      <td>2388.096652</td>\n",
              "      <td>9065.242941</td>\n",
              "      <td>1.300000e+00</td>\n",
              "      <td>47.541168</td>\n",
              "      <td>521.413470</td>\n",
              "      <td>2388.096152</td>\n",
              "      <td>8143.752722</td>\n",
              "      <td>8.442146</td>\n",
              "      <td>3.000000e-02</td>\n",
              "      <td>393.210654</td>\n",
              "      <td>2388.0</td>\n",
              "      <td>100.0</td>\n",
              "      <td>38.816271</td>\n",
              "      <td>23.289705</td>\n",
              "    </tr>\n",
              "    <tr>\n",
              "      <th>std</th>\n",
              "      <td>29.227633</td>\n",
              "      <td>68.880990</td>\n",
              "      <td>0.002187</td>\n",
              "      <td>0.000293</td>\n",
              "      <td>0.0</td>\n",
              "      <td>6.537152e-11</td>\n",
              "      <td>0.500053</td>\n",
              "      <td>6.131150</td>\n",
              "      <td>9.000605</td>\n",
              "      <td>3.394700e-12</td>\n",
              "      <td>0.001389</td>\n",
              "      <td>0.885092</td>\n",
              "      <td>0.070985</td>\n",
              "      <td>22.082880</td>\n",
              "      <td>4.660829e-13</td>\n",
              "      <td>0.267087</td>\n",
              "      <td>0.737553</td>\n",
              "      <td>0.071919</td>\n",
              "      <td>19.076176</td>\n",
              "      <td>0.037505</td>\n",
              "      <td>1.556432e-14</td>\n",
              "      <td>1.548763</td>\n",
              "      <td>0.0</td>\n",
              "      <td>0.0</td>\n",
              "      <td>0.180746</td>\n",
              "      <td>0.108251</td>\n",
              "    </tr>\n",
              "    <tr>\n",
              "      <th>min</th>\n",
              "      <td>1.000000</td>\n",
              "      <td>1.000000</td>\n",
              "      <td>-0.008700</td>\n",
              "      <td>-0.000600</td>\n",
              "      <td>100.0</td>\n",
              "      <td>5.186700e+02</td>\n",
              "      <td>641.210000</td>\n",
              "      <td>1571.040000</td>\n",
              "      <td>1382.250000</td>\n",
              "      <td>1.462000e+01</td>\n",
              "      <td>21.600000</td>\n",
              "      <td>549.850000</td>\n",
              "      <td>2387.900000</td>\n",
              "      <td>9021.730000</td>\n",
              "      <td>1.300000e+00</td>\n",
              "      <td>46.850000</td>\n",
              "      <td>518.690000</td>\n",
              "      <td>2387.880000</td>\n",
              "      <td>8099.940000</td>\n",
              "      <td>8.324900</td>\n",
              "      <td>3.000000e-02</td>\n",
              "      <td>388.000000</td>\n",
              "      <td>2388.0</td>\n",
              "      <td>100.0</td>\n",
              "      <td>38.140000</td>\n",
              "      <td>22.894200</td>\n",
              "    </tr>\n",
              "    <tr>\n",
              "      <th>25%</th>\n",
              "      <td>26.000000</td>\n",
              "      <td>52.000000</td>\n",
              "      <td>-0.001500</td>\n",
              "      <td>-0.000200</td>\n",
              "      <td>100.0</td>\n",
              "      <td>5.186700e+02</td>\n",
              "      <td>642.325000</td>\n",
              "      <td>1586.260000</td>\n",
              "      <td>1402.360000</td>\n",
              "      <td>1.462000e+01</td>\n",
              "      <td>21.610000</td>\n",
              "      <td>552.810000</td>\n",
              "      <td>2388.050000</td>\n",
              "      <td>9053.100000</td>\n",
              "      <td>1.300000e+00</td>\n",
              "      <td>47.350000</td>\n",
              "      <td>520.960000</td>\n",
              "      <td>2388.040000</td>\n",
              "      <td>8133.245000</td>\n",
              "      <td>8.414900</td>\n",
              "      <td>3.000000e-02</td>\n",
              "      <td>392.000000</td>\n",
              "      <td>2388.0</td>\n",
              "      <td>100.0</td>\n",
              "      <td>38.700000</td>\n",
              "      <td>23.221800</td>\n",
              "    </tr>\n",
              "    <tr>\n",
              "      <th>50%</th>\n",
              "      <td>52.000000</td>\n",
              "      <td>104.000000</td>\n",
              "      <td>0.000000</td>\n",
              "      <td>0.000000</td>\n",
              "      <td>100.0</td>\n",
              "      <td>5.186700e+02</td>\n",
              "      <td>642.640000</td>\n",
              "      <td>1590.100000</td>\n",
              "      <td>1408.040000</td>\n",
              "      <td>1.462000e+01</td>\n",
              "      <td>21.610000</td>\n",
              "      <td>553.440000</td>\n",
              "      <td>2388.090000</td>\n",
              "      <td>9060.660000</td>\n",
              "      <td>1.300000e+00</td>\n",
              "      <td>47.510000</td>\n",
              "      <td>521.480000</td>\n",
              "      <td>2388.090000</td>\n",
              "      <td>8140.540000</td>\n",
              "      <td>8.438900</td>\n",
              "      <td>3.000000e-02</td>\n",
              "      <td>393.000000</td>\n",
              "      <td>2388.0</td>\n",
              "      <td>100.0</td>\n",
              "      <td>38.830000</td>\n",
              "      <td>23.297900</td>\n",
              "    </tr>\n",
              "    <tr>\n",
              "      <th>75%</th>\n",
              "      <td>77.000000</td>\n",
              "      <td>156.000000</td>\n",
              "      <td>0.001500</td>\n",
              "      <td>0.000300</td>\n",
              "      <td>100.0</td>\n",
              "      <td>5.186700e+02</td>\n",
              "      <td>643.000000</td>\n",
              "      <td>1594.380000</td>\n",
              "      <td>1414.555000</td>\n",
              "      <td>1.462000e+01</td>\n",
              "      <td>21.610000</td>\n",
              "      <td>554.010000</td>\n",
              "      <td>2388.140000</td>\n",
              "      <td>9069.420000</td>\n",
              "      <td>1.300000e+00</td>\n",
              "      <td>47.700000</td>\n",
              "      <td>521.950000</td>\n",
              "      <td>2388.140000</td>\n",
              "      <td>8148.310000</td>\n",
              "      <td>8.465600</td>\n",
              "      <td>3.000000e-02</td>\n",
              "      <td>394.000000</td>\n",
              "      <td>2388.0</td>\n",
              "      <td>100.0</td>\n",
              "      <td>38.950000</td>\n",
              "      <td>23.366800</td>\n",
              "    </tr>\n",
              "    <tr>\n",
              "      <th>max</th>\n",
              "      <td>100.000000</td>\n",
              "      <td>362.000000</td>\n",
              "      <td>0.008700</td>\n",
              "      <td>0.000600</td>\n",
              "      <td>100.0</td>\n",
              "      <td>5.186700e+02</td>\n",
              "      <td>644.530000</td>\n",
              "      <td>1616.910000</td>\n",
              "      <td>1441.490000</td>\n",
              "      <td>1.462000e+01</td>\n",
              "      <td>21.610000</td>\n",
              "      <td>556.060000</td>\n",
              "      <td>2388.560000</td>\n",
              "      <td>9244.590000</td>\n",
              "      <td>1.300000e+00</td>\n",
              "      <td>48.530000</td>\n",
              "      <td>523.380000</td>\n",
              "      <td>2388.560000</td>\n",
              "      <td>8293.720000</td>\n",
              "      <td>8.584800</td>\n",
              "      <td>3.000000e-02</td>\n",
              "      <td>400.000000</td>\n",
              "      <td>2388.0</td>\n",
              "      <td>100.0</td>\n",
              "      <td>39.430000</td>\n",
              "      <td>23.618400</td>\n",
              "    </tr>\n",
              "  </tbody>\n",
              "</table>\n",
              "</div>"
            ],
            "text/plain": [
              "                 id         cycle  ...           s20           s21\n",
              "count  20631.000000  20631.000000  ...  20631.000000  20631.000000\n",
              "mean      51.506568    108.807862  ...     38.816271     23.289705\n",
              "std       29.227633     68.880990  ...      0.180746      0.108251\n",
              "min        1.000000      1.000000  ...     38.140000     22.894200\n",
              "25%       26.000000     52.000000  ...     38.700000     23.221800\n",
              "50%       52.000000    104.000000  ...     38.830000     23.297900\n",
              "75%       77.000000    156.000000  ...     38.950000     23.366800\n",
              "max      100.000000    362.000000  ...     39.430000     23.618400\n",
              "\n",
              "[8 rows x 26 columns]"
            ]
          },
          "metadata": {
            "tags": []
          },
          "execution_count": 18
        }
      ]
    },
    {
      "cell_type": "code",
      "metadata": {
        "id": "H5-Wr1Tw5Pue",
        "colab_type": "code",
        "colab": {
          "base_uri": "https://localhost:8080/",
          "height": 224
        },
        "outputId": "25cfa7fc-7ee2-41cf-82bb-b98bda351c33"
      },
      "source": [
        "dfTrain.tail() #últimos 5 términos"
      ],
      "execution_count": 19,
      "outputs": [
        {
          "output_type": "execute_result",
          "data": {
            "text/html": [
              "<div>\n",
              "<style scoped>\n",
              "    .dataframe tbody tr th:only-of-type {\n",
              "        vertical-align: middle;\n",
              "    }\n",
              "\n",
              "    .dataframe tbody tr th {\n",
              "        vertical-align: top;\n",
              "    }\n",
              "\n",
              "    .dataframe thead th {\n",
              "        text-align: right;\n",
              "    }\n",
              "</style>\n",
              "<table border=\"1\" class=\"dataframe\">\n",
              "  <thead>\n",
              "    <tr style=\"text-align: right;\">\n",
              "      <th></th>\n",
              "      <th>id</th>\n",
              "      <th>cycle</th>\n",
              "      <th>setting1</th>\n",
              "      <th>setting2</th>\n",
              "      <th>setting3</th>\n",
              "      <th>s1</th>\n",
              "      <th>s2</th>\n",
              "      <th>s3</th>\n",
              "      <th>s4</th>\n",
              "      <th>s5</th>\n",
              "      <th>s6</th>\n",
              "      <th>s7</th>\n",
              "      <th>s8</th>\n",
              "      <th>s9</th>\n",
              "      <th>s10</th>\n",
              "      <th>s11</th>\n",
              "      <th>s12</th>\n",
              "      <th>s13</th>\n",
              "      <th>s14</th>\n",
              "      <th>s15</th>\n",
              "      <th>s16</th>\n",
              "      <th>s17</th>\n",
              "      <th>s18</th>\n",
              "      <th>s19</th>\n",
              "      <th>s20</th>\n",
              "      <th>s21</th>\n",
              "    </tr>\n",
              "  </thead>\n",
              "  <tbody>\n",
              "    <tr>\n",
              "      <th>20626</th>\n",
              "      <td>100</td>\n",
              "      <td>196</td>\n",
              "      <td>-0.0004</td>\n",
              "      <td>-0.0003</td>\n",
              "      <td>100.0</td>\n",
              "      <td>518.67</td>\n",
              "      <td>643.49</td>\n",
              "      <td>1597.98</td>\n",
              "      <td>1428.63</td>\n",
              "      <td>14.62</td>\n",
              "      <td>21.61</td>\n",
              "      <td>551.43</td>\n",
              "      <td>2388.19</td>\n",
              "      <td>9065.52</td>\n",
              "      <td>1.3</td>\n",
              "      <td>48.07</td>\n",
              "      <td>519.49</td>\n",
              "      <td>2388.26</td>\n",
              "      <td>8137.60</td>\n",
              "      <td>8.4956</td>\n",
              "      <td>0.03</td>\n",
              "      <td>397</td>\n",
              "      <td>2388</td>\n",
              "      <td>100.0</td>\n",
              "      <td>38.49</td>\n",
              "      <td>22.9735</td>\n",
              "    </tr>\n",
              "    <tr>\n",
              "      <th>20627</th>\n",
              "      <td>100</td>\n",
              "      <td>197</td>\n",
              "      <td>-0.0016</td>\n",
              "      <td>-0.0005</td>\n",
              "      <td>100.0</td>\n",
              "      <td>518.67</td>\n",
              "      <td>643.54</td>\n",
              "      <td>1604.50</td>\n",
              "      <td>1433.58</td>\n",
              "      <td>14.62</td>\n",
              "      <td>21.61</td>\n",
              "      <td>550.86</td>\n",
              "      <td>2388.23</td>\n",
              "      <td>9065.11</td>\n",
              "      <td>1.3</td>\n",
              "      <td>48.04</td>\n",
              "      <td>519.68</td>\n",
              "      <td>2388.22</td>\n",
              "      <td>8136.50</td>\n",
              "      <td>8.5139</td>\n",
              "      <td>0.03</td>\n",
              "      <td>395</td>\n",
              "      <td>2388</td>\n",
              "      <td>100.0</td>\n",
              "      <td>38.30</td>\n",
              "      <td>23.1594</td>\n",
              "    </tr>\n",
              "    <tr>\n",
              "      <th>20628</th>\n",
              "      <td>100</td>\n",
              "      <td>198</td>\n",
              "      <td>0.0004</td>\n",
              "      <td>0.0000</td>\n",
              "      <td>100.0</td>\n",
              "      <td>518.67</td>\n",
              "      <td>643.42</td>\n",
              "      <td>1602.46</td>\n",
              "      <td>1428.18</td>\n",
              "      <td>14.62</td>\n",
              "      <td>21.61</td>\n",
              "      <td>550.94</td>\n",
              "      <td>2388.24</td>\n",
              "      <td>9065.90</td>\n",
              "      <td>1.3</td>\n",
              "      <td>48.09</td>\n",
              "      <td>520.01</td>\n",
              "      <td>2388.24</td>\n",
              "      <td>8141.05</td>\n",
              "      <td>8.5646</td>\n",
              "      <td>0.03</td>\n",
              "      <td>398</td>\n",
              "      <td>2388</td>\n",
              "      <td>100.0</td>\n",
              "      <td>38.44</td>\n",
              "      <td>22.9333</td>\n",
              "    </tr>\n",
              "    <tr>\n",
              "      <th>20629</th>\n",
              "      <td>100</td>\n",
              "      <td>199</td>\n",
              "      <td>-0.0011</td>\n",
              "      <td>0.0003</td>\n",
              "      <td>100.0</td>\n",
              "      <td>518.67</td>\n",
              "      <td>643.23</td>\n",
              "      <td>1605.26</td>\n",
              "      <td>1426.53</td>\n",
              "      <td>14.62</td>\n",
              "      <td>21.61</td>\n",
              "      <td>550.68</td>\n",
              "      <td>2388.25</td>\n",
              "      <td>9073.72</td>\n",
              "      <td>1.3</td>\n",
              "      <td>48.39</td>\n",
              "      <td>519.67</td>\n",
              "      <td>2388.23</td>\n",
              "      <td>8139.29</td>\n",
              "      <td>8.5389</td>\n",
              "      <td>0.03</td>\n",
              "      <td>395</td>\n",
              "      <td>2388</td>\n",
              "      <td>100.0</td>\n",
              "      <td>38.29</td>\n",
              "      <td>23.0640</td>\n",
              "    </tr>\n",
              "    <tr>\n",
              "      <th>20630</th>\n",
              "      <td>100</td>\n",
              "      <td>200</td>\n",
              "      <td>-0.0032</td>\n",
              "      <td>-0.0005</td>\n",
              "      <td>100.0</td>\n",
              "      <td>518.67</td>\n",
              "      <td>643.85</td>\n",
              "      <td>1600.38</td>\n",
              "      <td>1432.14</td>\n",
              "      <td>14.62</td>\n",
              "      <td>21.61</td>\n",
              "      <td>550.79</td>\n",
              "      <td>2388.26</td>\n",
              "      <td>9061.48</td>\n",
              "      <td>1.3</td>\n",
              "      <td>48.20</td>\n",
              "      <td>519.30</td>\n",
              "      <td>2388.26</td>\n",
              "      <td>8137.33</td>\n",
              "      <td>8.5036</td>\n",
              "      <td>0.03</td>\n",
              "      <td>396</td>\n",
              "      <td>2388</td>\n",
              "      <td>100.0</td>\n",
              "      <td>38.37</td>\n",
              "      <td>23.0522</td>\n",
              "    </tr>\n",
              "  </tbody>\n",
              "</table>\n",
              "</div>"
            ],
            "text/plain": [
              "        id  cycle  setting1  setting2  ...   s18    s19    s20      s21\n",
              "20626  100    196   -0.0004   -0.0003  ...  2388  100.0  38.49  22.9735\n",
              "20627  100    197   -0.0016   -0.0005  ...  2388  100.0  38.30  23.1594\n",
              "20628  100    198    0.0004    0.0000  ...  2388  100.0  38.44  22.9333\n",
              "20629  100    199   -0.0011    0.0003  ...  2388  100.0  38.29  23.0640\n",
              "20630  100    200   -0.0032   -0.0005  ...  2388  100.0  38.37  23.0522\n",
              "\n",
              "[5 rows x 26 columns]"
            ]
          },
          "metadata": {
            "tags": []
          },
          "execution_count": 19
        }
      ]
    },
    {
      "cell_type": "code",
      "metadata": {
        "id": "ZZT6VUrM5oUN",
        "colab_type": "code",
        "colab": {
          "base_uri": "https://localhost:8080/",
          "height": 476
        },
        "outputId": "773fa7d5-353c-4da7-c17e-ecaa2a365994"
      },
      "source": [
        "dfTrain.dtypes"
      ],
      "execution_count": 20,
      "outputs": [
        {
          "output_type": "execute_result",
          "data": {
            "text/plain": [
              "id            int64\n",
              "cycle         int64\n",
              "setting1    float64\n",
              "setting2    float64\n",
              "setting3    float64\n",
              "s1          float64\n",
              "s2          float64\n",
              "s3          float64\n",
              "s4          float64\n",
              "s5          float64\n",
              "s6          float64\n",
              "s7          float64\n",
              "s8          float64\n",
              "s9          float64\n",
              "s10         float64\n",
              "s11         float64\n",
              "s12         float64\n",
              "s13         float64\n",
              "s14         float64\n",
              "s15         float64\n",
              "s16         float64\n",
              "s17           int64\n",
              "s18           int64\n",
              "s19         float64\n",
              "s20         float64\n",
              "s21         float64\n",
              "dtype: object"
            ]
          },
          "metadata": {
            "tags": []
          },
          "execution_count": 20
        }
      ]
    },
    {
      "cell_type": "markdown",
      "metadata": {
        "id": "1VBCeBaF6eSb",
        "colab_type": "text"
      },
      "source": [
        "*La siguiente línea es para saber si hay datos faltantes o nulos en el archivo*"
      ]
    },
    {
      "cell_type": "code",
      "metadata": {
        "id": "P9K-G3mz6By5",
        "colab_type": "code",
        "colab": {
          "base_uri": "https://localhost:8080/",
          "height": 476
        },
        "outputId": "43b42061-d309-485c-8e54-01159447bd79"
      },
      "source": [
        "dfTrain.isnull().sum() #regresa una muestra booleana sin el .sum"
      ],
      "execution_count": 23,
      "outputs": [
        {
          "output_type": "execute_result",
          "data": {
            "text/plain": [
              "id          0\n",
              "cycle       0\n",
              "setting1    0\n",
              "setting2    0\n",
              "setting3    0\n",
              "s1          0\n",
              "s2          0\n",
              "s3          0\n",
              "s4          0\n",
              "s5          0\n",
              "s6          0\n",
              "s7          0\n",
              "s8          0\n",
              "s9          0\n",
              "s10         0\n",
              "s11         0\n",
              "s12         0\n",
              "s13         0\n",
              "s14         0\n",
              "s15         0\n",
              "s16         0\n",
              "s17         0\n",
              "s18         0\n",
              "s19         0\n",
              "s20         0\n",
              "s21         0\n",
              "dtype: int64"
            ]
          },
          "metadata": {
            "tags": []
          },
          "execution_count": 23
        }
      ]
    },
    {
      "cell_type": "markdown",
      "metadata": {
        "id": "wTjNWVBl74GV",
        "colab_type": "text"
      },
      "source": [
        "**¿Cómo puedo saber si algunos de los datos en las columnas sí cambiaron?** \n",
        "\n",
        "*calcular desviación estándar de los datos*"
      ]
    },
    {
      "cell_type": "code",
      "metadata": {
        "id": "X8xTFR4M7HmG",
        "colab_type": "code",
        "colab": {
          "base_uri": "https://localhost:8080/",
          "height": 476
        },
        "outputId": "176080b8-8180-4509-cfa3-d915f5015f18"
      },
      "source": [
        "dfTrain.describe().loc[\"std\",:]"
      ],
      "execution_count": 27,
      "outputs": [
        {
          "output_type": "execute_result",
          "data": {
            "text/plain": [
              "id          2.922763e+01\n",
              "cycle       6.888099e+01\n",
              "setting1    2.187313e-03\n",
              "setting2    2.930621e-04\n",
              "setting3    0.000000e+00\n",
              "s1          6.537152e-11\n",
              "s2          5.000533e-01\n",
              "s3          6.131150e+00\n",
              "s4          9.000605e+00\n",
              "s5          3.394700e-12\n",
              "s6          1.388985e-03\n",
              "s7          8.850923e-01\n",
              "s8          7.098548e-02\n",
              "s9          2.208288e+01\n",
              "s10         4.660829e-13\n",
              "s11         2.670874e-01\n",
              "s12         7.375534e-01\n",
              "s13         7.191892e-02\n",
              "s14         1.907618e+01\n",
              "s15         3.750504e-02\n",
              "s16         1.556432e-14\n",
              "s17         1.548763e+00\n",
              "s18         0.000000e+00\n",
              "s19         0.000000e+00\n",
              "s20         1.807464e-01\n",
              "s21         1.082509e-01\n",
              "Name: std, dtype: float64"
            ]
          },
          "metadata": {
            "tags": []
          },
          "execution_count": 27
        }
      ]
    },
    {
      "cell_type": "code",
      "metadata": {
        "id": "M85qiu028dIi",
        "colab_type": "code",
        "colab": {
          "base_uri": "https://localhost:8080/",
          "height": 282
        },
        "outputId": "456c04da-d70e-4d25-e633-e6730c1655d0"
      },
      "source": [
        "dfTrain.loc[:,\"s4\"].plot() #visualizando las variaciones de los datos"
      ],
      "execution_count": 30,
      "outputs": [
        {
          "output_type": "execute_result",
          "data": {
            "text/plain": [
              "<matplotlib.axes._subplots.AxesSubplot at 0x7f646eaa6588>"
            ]
          },
          "metadata": {
            "tags": []
          },
          "execution_count": 30
        },
        {
          "output_type": "display_data",
          "data": {
            "image/png": "[encoded data removed]",
            "text/plain": [
              "<Figure size 432x288 with 1 Axes>"
            ]
          },
          "metadata": {
            "tags": []
          }
        }
      ]
    },
    {
      "cell_type": "code",
      "metadata": {
        "id": "HFrPoh379Klo",
        "colab_type": "code",
        "colab": {}
      },
      "source": [
        "dfTrain = pd.concat([\n",
        "    dfTrain.iloc[:,0:2], dfTrain.iloc[:,6:9],\n",
        "    dfTrain.iloc[:,10:14], dfTrain.iloc[:,15:20],\n",
        "    dfTrain.iloc[:,21], dfTrain.iloc[:,24:26]], axis=1)"
      ],
      "execution_count": 0,
      "outputs": []
    },
    {
      "cell_type": "code",
      "metadata": {
        "id": "kZ0N9o-G99hu",
        "colab_type": "code",
        "colab": {
          "base_uri": "https://localhost:8080/",
          "height": 323
        },
        "outputId": "079401e5-982c-40d1-ac2c-a4421b8a6350"
      },
      "source": [
        "dfTrain.describe().loc[\"std\",:]"
      ],
      "execution_count": 33,
      "outputs": [
        {
          "output_type": "execute_result",
          "data": {
            "text/plain": [
              "id       29.227633\n",
              "cycle    68.880990\n",
              "s2        0.500053\n",
              "s3        6.131150\n",
              "s4        9.000605\n",
              "s6        0.001389\n",
              "s7        0.885092\n",
              "s8        0.070985\n",
              "s9       22.082880\n",
              "s11       0.267087\n",
              "s12       0.737553\n",
              "s13       0.071919\n",
              "s14      19.076176\n",
              "s15       0.037505\n",
              "s17       1.548763\n",
              "s20       0.180746\n",
              "s21       0.108251\n",
              "Name: std, dtype: float64"
            ]
          },
          "metadata": {
            "tags": []
          },
          "execution_count": 33
        }
      ]
    },
    {
      "cell_type": "code",
      "metadata": {
        "id": "A0AmiOkQ-U7i",
        "colab_type": "code",
        "colab": {
          "base_uri": "https://localhost:8080/",
          "height": 238
        },
        "outputId": "3ecfa400-1a63-49d6-f95e-0b153e1cf2d5"
      },
      "source": [
        "dfTrain.groupby('id')['cycle'].max() #agrupar tomando la columna cycle"
      ],
      "execution_count": 36,
      "outputs": [
        {
          "output_type": "execute_result",
          "data": {
            "text/plain": [
              "id\n",
              "1      192\n",
              "2      287\n",
              "3      179\n",
              "4      189\n",
              "5      269\n",
              "      ... \n",
              "96     336\n",
              "97     202\n",
              "98     156\n",
              "99     185\n",
              "100    200\n",
              "Name: cycle, Length: 100, dtype: int64"
            ]
          },
          "metadata": {
            "tags": []
          },
          "execution_count": 36
        }
      ]
    },
    {
      "cell_type": "code",
      "metadata": {
        "id": "ay3oxl9Y-1dX",
        "colab_type": "code",
        "colab": {}
      },
      "source": [
        "df_maxCycle = pd.DataFrame(dfTrain.groupby('id')['cycle'].max()) #creo un nuevo data frame ya que el groupby recuerda indices del DF original\n",
        "df_maxCycle.reset_index(level=0, inplace=True)\n",
        "df_maxCycle.columns = [\"id\", \"last_cycle\"]"
      ],
      "execution_count": 0,
      "outputs": []
    },
    {
      "cell_type": "code",
      "metadata": {
        "id": "0u0Q3peYAEvd",
        "colab_type": "code",
        "colab": {
          "base_uri": "https://localhost:8080/",
          "height": 204
        },
        "outputId": "dd37cf81-cd25-48ba-c232-31db41a7e9d9"
      },
      "source": [
        "df_maxCycle.head()"
      ],
      "execution_count": 39,
      "outputs": [
        {
          "output_type": "execute_result",
          "data": {
            "text/html": [
              "<div>\n",
              "<style scoped>\n",
              "    .dataframe tbody tr th:only-of-type {\n",
              "        vertical-align: middle;\n",
              "    }\n",
              "\n",
              "    .dataframe tbody tr th {\n",
              "        vertical-align: top;\n",
              "    }\n",
              "\n",
              "    .dataframe thead th {\n",
              "        text-align: right;\n",
              "    }\n",
              "</style>\n",
              "<table border=\"1\" class=\"dataframe\">\n",
              "  <thead>\n",
              "    <tr style=\"text-align: right;\">\n",
              "      <th></th>\n",
              "      <th>id</th>\n",
              "      <th>last_cycle</th>\n",
              "    </tr>\n",
              "  </thead>\n",
              "  <tbody>\n",
              "    <tr>\n",
              "      <th>0</th>\n",
              "      <td>1</td>\n",
              "      <td>192</td>\n",
              "    </tr>\n",
              "    <tr>\n",
              "      <th>1</th>\n",
              "      <td>2</td>\n",
              "      <td>287</td>\n",
              "    </tr>\n",
              "    <tr>\n",
              "      <th>2</th>\n",
              "      <td>3</td>\n",
              "      <td>179</td>\n",
              "    </tr>\n",
              "    <tr>\n",
              "      <th>3</th>\n",
              "      <td>4</td>\n",
              "      <td>189</td>\n",
              "    </tr>\n",
              "    <tr>\n",
              "      <th>4</th>\n",
              "      <td>5</td>\n",
              "      <td>269</td>\n",
              "    </tr>\n",
              "  </tbody>\n",
              "</table>\n",
              "</div>"
            ],
            "text/plain": [
              "   id  last_cycle\n",
              "0   1         192\n",
              "1   2         287\n",
              "2   3         179\n",
              "3   4         189\n",
              "4   5         269"
            ]
          },
          "metadata": {
            "tags": []
          },
          "execution_count": 39
        }
      ]
    },
    {
      "cell_type": "code",
      "metadata": {
        "id": "8_GzoH8yA3HM",
        "colab_type": "code",
        "colab": {}
      },
      "source": [
        "dfTrain = pd.merge(dfTrain, df_maxCycle, on=\"id\")"
      ],
      "execution_count": 0,
      "outputs": []
    },
    {
      "cell_type": "code",
      "metadata": {
        "id": "PWPMOM-lCFeq",
        "colab_type": "code",
        "colab": {}
      },
      "source": [
        "dfTrain[\"ttf\"] = dfTrain['last_cycle'] - dfTrain['cycle']"
      ],
      "execution_count": 0,
      "outputs": []
    },
    {
      "cell_type": "code",
      "metadata": {
        "id": "gJE8q4idCPOU",
        "colab_type": "code",
        "colab": {}
      },
      "source": [
        "dfTrain.drop([\"last_cycle\"], axis=1, inplace=True)"
      ],
      "execution_count": 0,
      "outputs": []
    },
    {
      "cell_type": "markdown",
      "metadata": {
        "id": "_8iH4gbvCca_",
        "colab_type": "text"
      },
      "source": [
        "**DfTrain data frame con columna de tiempo antes de falla**"
      ]
    },
    {
      "cell_type": "code",
      "metadata": {
        "id": "Q7rcoRuKCY5S",
        "colab_type": "code",
        "colab": {}
      },
      "source": [
        "from sklearn.linear_model import LinearRegression\n",
        "model = LinearRegression()"
      ],
      "execution_count": 0,
      "outputs": []
    },
    {
      "cell_type": "code",
      "metadata": {
        "id": "fd8CwdmHDsrx",
        "colab_type": "code",
        "colab": {}
      },
      "source": [
        "x = dfTrain.drop([\"id\",\"ttf\"], axis=1)\n",
        "y = dfTrain['ttf']"
      ],
      "execution_count": 0,
      "outputs": []
    },
    {
      "cell_type": "code",
      "metadata": {
        "id": "3v2sJkzfD8UO",
        "colab_type": "code",
        "colab": {}
      },
      "source": [
        "#random permutation\n",
        "np.random.seed(0)\n",
        "test_ids = np.random.permutation(len(x))"
      ],
      "execution_count": 0,
      "outputs": []
    },
    {
      "cell_type": "code",
      "metadata": {
        "id": "u7-gq3T_EGls",
        "colab_type": "code",
        "colab": {
          "base_uri": "https://localhost:8080/",
          "height": 34
        },
        "outputId": "d6090c36-af95-4eb0-bb00-e59293319862"
      },
      "source": [
        "x.shape"
      ],
      "execution_count": 47,
      "outputs": [
        {
          "output_type": "execute_result",
          "data": {
            "text/plain": [
              "(20631, 16)"
            ]
          },
          "metadata": {
            "tags": []
          },
          "execution_count": 47
        }
      ]
    },
    {
      "cell_type": "code",
      "metadata": {
        "id": "J-q23mtOEH5S",
        "colab_type": "code",
        "colab": {}
      },
      "source": [
        "#generando un conjunto de entrenamiento\n",
        "t_75 = int(len(test_ids) - np.floor(len(test_ids)*.75))"
      ],
      "execution_count": 0,
      "outputs": []
    },
    {
      "cell_type": "code",
      "metadata": {
        "id": "geRGjF4FE1jp",
        "colab_type": "code",
        "colab": {}
      },
      "source": [
        "x_train = x.iloc[test_ids[:-t_75]]\n",
        "y_train = y.iloc[test_ids[:-t_75]]"
      ],
      "execution_count": 0,
      "outputs": []
    },
    {
      "cell_type": "code",
      "metadata": {
        "id": "jg_sJ4d4FHlA",
        "colab_type": "code",
        "colab": {}
      },
      "source": [
        "x_test = x.iloc[test_ids[-t_75:]]\n",
        "y_test = y.iloc[test_ids[-t_75:]]"
      ],
      "execution_count": 0,
      "outputs": []
    },
    {
      "cell_type": "code",
      "metadata": {
        "id": "-4DieUz-FWiz",
        "colab_type": "code",
        "colab": {
          "base_uri": "https://localhost:8080/",
          "height": 34
        },
        "outputId": "9e37b735-6bd1-4c79-f5a5-28ce026f70ea"
      },
      "source": [
        "model.fit(x_train, y_train)"
      ],
      "execution_count": 58,
      "outputs": [
        {
          "output_type": "execute_result",
          "data": {
            "text/plain": [
              "LinearRegression(copy_X=True, fit_intercept=True, n_jobs=None, normalize=False)"
            ]
          },
          "metadata": {
            "tags": []
          },
          "execution_count": 58
        }
      ]
    },
    {
      "cell_type": "code",
      "metadata": {
        "id": "BMruJNmaFvd3",
        "colab_type": "code",
        "colab": {}
      },
      "source": [
        "y_pred = model.predict(x_test)"
      ],
      "execution_count": 0,
      "outputs": []
    },
    {
      "cell_type": "code",
      "metadata": {
        "id": "7ZCIqMopF0is",
        "colab_type": "code",
        "colab": {
          "base_uri": "https://localhost:8080/",
          "height": 51
        },
        "outputId": "b75fdb4f-2b92-4384-9c84-968bcc44da84"
      },
      "source": [
        "y_pred"
      ],
      "execution_count": 60,
      "outputs": [
        {
          "output_type": "execute_result",
          "data": {
            "text/plain": [
              "array([139.66008374,  -5.93643823,  44.01841662, ...,  83.23265103,\n",
              "       159.08454618, 145.99531839])"
            ]
          },
          "metadata": {
            "tags": []
          },
          "execution_count": 60
        }
      ]
    },
    {
      "cell_type": "code",
      "metadata": {
        "id": "yP-J63SMF12z",
        "colab_type": "code",
        "colab": {
          "base_uri": "https://localhost:8080/",
          "height": 34
        },
        "outputId": "8b213535-cf46-431a-a4dd-2740859fe23a"
      },
      "source": [
        "print(y_test.values)"
      ],
      "execution_count": 61,
      "outputs": [
        {
          "output_type": "stream",
          "text": [
            "[146  18  70 ...  63 180 156]\n"
          ],
          "name": "stdout"
        }
      ]
    },
    {
      "cell_type": "markdown",
      "metadata": {
        "id": "gsB0556NHuQz",
        "colab_type": "text"
      },
      "source": [
        "**Modelo de clasificación: Reduccion de dimensionalidad**"
      ]
    },
    {
      "cell_type": "code",
      "metadata": {
        "id": "QAh4NiL9F_kQ",
        "colab_type": "code",
        "colab": {
          "base_uri": "https://localhost:8080/",
          "height": 221
        },
        "outputId": "2afec22c-343a-47b0-872d-5d01d7a8d7b8"
      },
      "source": [
        "win = 30\n",
        "dfTrain[\"ttf\"].apply(lambda x: 1 if x <= win else 0) #lambda es para crear una función anónima y evitar un For"
      ],
      "execution_count": 63,
      "outputs": [
        {
          "output_type": "execute_result",
          "data": {
            "text/plain": [
              "0        0\n",
              "1        0\n",
              "2        0\n",
              "3        0\n",
              "4        0\n",
              "        ..\n",
              "20626    1\n",
              "20627    1\n",
              "20628    1\n",
              "20629    1\n",
              "20630    1\n",
              "Name: ttf, Length: 20631, dtype: int64"
            ]
          },
          "metadata": {
            "tags": []
          },
          "execution_count": 63
        }
      ]
    },
    {
      "cell_type": "code",
      "metadata": {
        "id": "A0aRrXbQIxfd",
        "colab_type": "code",
        "colab": {
          "base_uri": "https://localhost:8080/",
          "height": 238
        },
        "outputId": "68a608e8-6a43-4634-c92c-5113568a1b76"
      },
      "source": [
        "pd.cut(dfTrain['ttf'],2, labels = range(2)) #2 es el número de intervalos"
      ],
      "execution_count": 65,
      "outputs": [
        {
          "output_type": "execute_result",
          "data": {
            "text/plain": [
              "0        1\n",
              "1        1\n",
              "2        1\n",
              "3        1\n",
              "4        1\n",
              "        ..\n",
              "20626    0\n",
              "20627    0\n",
              "20628    0\n",
              "20629    0\n",
              "20630    0\n",
              "Name: ttf, Length: 20631, dtype: category\n",
              "Categories (2, int64): [0 < 1]"
            ]
          },
          "metadata": {
            "tags": []
          },
          "execution_count": 65
        }
      ]
    },
    {
      "cell_type": "markdown",
      "metadata": {
        "id": "vjD1zRrpJw1n",
        "colab_type": "text"
      },
      "source": [
        "Ahora para clasificación multiclases de acuerdo...."
      ]
    },
    {
      "cell_type": "code",
      "metadata": {
        "id": "10IW5NWgJU5B",
        "colab_type": "code",
        "colab": {}
      },
      "source": [
        "dfTrain[\"label_mcc\"] = pd.cut(dfTrain['ttf'], 4, labels=range(1,5))"
      ],
      "execution_count": 0,
      "outputs": []
    },
    {
      "cell_type": "code",
      "metadata": {
        "id": "fBlpc9-TKFNr",
        "colab_type": "code",
        "colab": {
          "base_uri": "https://localhost:8080/",
          "height": 238
        },
        "outputId": "75df7301-d8c2-40a9-98d7-4766e02afa79"
      },
      "source": [
        "dfTrain[\"label_mcc\"]"
      ],
      "execution_count": 67,
      "outputs": [
        {
          "output_type": "execute_result",
          "data": {
            "text/plain": [
              "0        3\n",
              "1        3\n",
              "2        3\n",
              "3        3\n",
              "4        3\n",
              "        ..\n",
              "20626    1\n",
              "20627    1\n",
              "20628    1\n",
              "20629    1\n",
              "20630    1\n",
              "Name: label_mcc, Length: 20631, dtype: category\n",
              "Categories (4, int64): [1 < 2 < 3 < 4]"
            ]
          },
          "metadata": {
            "tags": []
          },
          "execution_count": 67
        }
      ]
    },
    {
      "cell_type": "code",
      "metadata": {
        "id": "k860vm4sKJDT",
        "colab_type": "code",
        "colab": {}
      },
      "source": [
        "labels = ['urge', 'corto', 'mediano', 'largo']\n",
        "nums =[1,2,3,4]\n",
        "bins = [0,50,125,200,250]"
      ],
      "execution_count": 0,
      "outputs": []
    },
    {
      "cell_type": "code",
      "metadata": {
        "id": "T88MDOIuKaxK",
        "colab_type": "code",
        "colab": {}
      },
      "source": [
        "dfTrain[\"label_mcc\"] = pd.cut(dfTrain['ttf'], bins=bins, labels=nums)"
      ],
      "execution_count": 0,
      "outputs": []
    },
    {
      "cell_type": "code",
      "metadata": {
        "id": "UuhRdv1LKklL",
        "colab_type": "code",
        "colab": {
          "base_uri": "https://localhost:8080/",
          "height": 419
        },
        "outputId": "38a2f1e8-4a3a-4059-851d-163ee0a512bc"
      },
      "source": [
        "dfTrain[['ttf','label_mcc']]"
      ],
      "execution_count": 70,
      "outputs": [
        {
          "output_type": "execute_result",
          "data": {
            "text/html": [
              "<div>\n",
              "<style scoped>\n",
              "    .dataframe tbody tr th:only-of-type {\n",
              "        vertical-align: middle;\n",
              "    }\n",
              "\n",
              "    .dataframe tbody tr th {\n",
              "        vertical-align: top;\n",
              "    }\n",
              "\n",
              "    .dataframe thead th {\n",
              "        text-align: right;\n",
              "    }\n",
              "</style>\n",
              "<table border=\"1\" class=\"dataframe\">\n",
              "  <thead>\n",
              "    <tr style=\"text-align: right;\">\n",
              "      <th></th>\n",
              "      <th>ttf</th>\n",
              "      <th>label_mcc</th>\n",
              "    </tr>\n",
              "  </thead>\n",
              "  <tbody>\n",
              "    <tr>\n",
              "      <th>0</th>\n",
              "      <td>191</td>\n",
              "      <td>3</td>\n",
              "    </tr>\n",
              "    <tr>\n",
              "      <th>1</th>\n",
              "      <td>190</td>\n",
              "      <td>3</td>\n",
              "    </tr>\n",
              "    <tr>\n",
              "      <th>2</th>\n",
              "      <td>189</td>\n",
              "      <td>3</td>\n",
              "    </tr>\n",
              "    <tr>\n",
              "      <th>3</th>\n",
              "      <td>188</td>\n",
              "      <td>3</td>\n",
              "    </tr>\n",
              "    <tr>\n",
              "      <th>4</th>\n",
              "      <td>187</td>\n",
              "      <td>3</td>\n",
              "    </tr>\n",
              "    <tr>\n",
              "      <th>...</th>\n",
              "      <td>...</td>\n",
              "      <td>...</td>\n",
              "    </tr>\n",
              "    <tr>\n",
              "      <th>20626</th>\n",
              "      <td>4</td>\n",
              "      <td>1</td>\n",
              "    </tr>\n",
              "    <tr>\n",
              "      <th>20627</th>\n",
              "      <td>3</td>\n",
              "      <td>1</td>\n",
              "    </tr>\n",
              "    <tr>\n",
              "      <th>20628</th>\n",
              "      <td>2</td>\n",
              "      <td>1</td>\n",
              "    </tr>\n",
              "    <tr>\n",
              "      <th>20629</th>\n",
              "      <td>1</td>\n",
              "      <td>1</td>\n",
              "    </tr>\n",
              "    <tr>\n",
              "      <th>20630</th>\n",
              "      <td>0</td>\n",
              "      <td>NaN</td>\n",
              "    </tr>\n",
              "  </tbody>\n",
              "</table>\n",
              "<p>20631 rows × 2 columns</p>\n",
              "</div>"
            ],
            "text/plain": [
              "       ttf label_mcc\n",
              "0      191         3\n",
              "1      190         3\n",
              "2      189         3\n",
              "3      188         3\n",
              "4      187         3\n",
              "...    ...       ...\n",
              "20626    4         1\n",
              "20627    3         1\n",
              "20628    2         1\n",
              "20629    1         1\n",
              "20630    0       NaN\n",
              "\n",
              "[20631 rows x 2 columns]"
            ]
          },
          "metadata": {
            "tags": []
          },
          "execution_count": 70
        }
      ]
    },
    {
      "cell_type": "code",
      "metadata": {
        "id": "MTfrie9bK2x5",
        "colab_type": "code",
        "colab": {}
      },
      "source": [
        "dfTrain.to_csv('trainData.csv', index=False)"
      ],
      "execution_count": 0,
      "outputs": []
    },
    {
      "cell_type": "code",
      "metadata": {
        "id": "_4WPbad1LF_2",
        "colab_type": "code",
        "colab": {
          "base_uri": "https://localhost:8080/",
          "height": 34
        },
        "outputId": "b5ab7b4c-5b61-46be-a8c1-bdf756bd0d24"
      },
      "source": [
        "!ls"
      ],
      "execution_count": 72,
      "outputs": [
        {
          "output_type": "stream",
          "text": [
            "sample_data  trainData.csv\n"
          ],
          "name": "stdout"
        }
      ]
    },
    {
      "cell_type": "code",
      "metadata": {
        "id": "Wztmcli1LIEf",
        "colab_type": "code",
        "colab": {
          "base_uri": "https://localhost:8080/",
          "height": 282
        },
        "outputId": "6bbd580d-9e56-495f-d772-7af6c2a98cd3"
      },
      "source": [
        "plt.scatter(dfTrain['ttf'], dfTrain['s21'], c=dfTrain['label_mcc'])"
      ],
      "execution_count": 76,
      "outputs": [
        {
          "output_type": "execute_result",
          "data": {
            "text/plain": [
              "<matplotlib.collections.PathCollection at 0x7f645c782b00>"
            ]
          },
          "metadata": {
            "tags": []
          },
          "execution_count": 76
        },
        {
          "output_type": "display_data",
          "data": {
            "image/png": "[encoded data removed]",
            "text/plain": [
              "<Figure size 432x288 with 1 Axes>"
            ]
          },
          "metadata": {
            "tags": []
          }
        }
      ]
    },
    {
      "cell_type": "code",
      "metadata": {
        "id": "bqJE9O3dMRe3",
        "colab_type": "code",
        "colab": {}
      },
      "source": [
        "from sklearn import preprocessing\n",
        "from sklearn.decomposition import PCA"
      ],
      "execution_count": 0,
      "outputs": []
    },
    {
      "cell_type": "code",
      "metadata": {
        "id": "V41NxqnVMjxj",
        "colab_type": "code",
        "colab": {}
      },
      "source": [
        "cols = dfTrain.columns\n",
        "min_max_scaler = preprocessing.MinMaxScaler()\n",
        "np_scaled = min_max_scaler.fit_transform(dfTrain)\n",
        "dfTrainZ=pd.DataFrame(np_scaled, columns = cols)"
      ],
      "execution_count": 0,
      "outputs": []
    },
    {
      "cell_type": "code",
      "metadata": {
        "id": "b6kaiTKqNg3s",
        "colab_type": "code",
        "colab": {}
      },
      "source": [
        "dfTrainZ"
      ],
      "execution_count": 0,
      "outputs": []
    },
    {
      "cell_type": "code",
      "metadata": {
        "id": "beFy5HYONjtZ",
        "colab_type": "code",
        "colab": {
          "base_uri": "https://localhost:8080/",
          "height": 34
        },
        "outputId": "cbcecec0-c706-4201-c7d9-c3a043fed3cd"
      },
      "source": [
        "Xt = dfTrainZ.iloc[:,2:-3] #matriz de diseño\n",
        "Xt.shape"
      ],
      "execution_count": 81,
      "outputs": [
        {
          "output_type": "execute_result",
          "data": {
            "text/plain": [
              "(20631, 14)"
            ]
          },
          "metadata": {
            "tags": []
          },
          "execution_count": 81
        }
      ]
    },
    {
      "cell_type": "code",
      "metadata": {
        "id": "lwlWWOFdN_KS",
        "colab_type": "code",
        "colab": {
          "base_uri": "https://localhost:8080/",
          "height": 51
        },
        "outputId": "2f1f9bc9-f598-4786-aebc-6b00a255157f"
      },
      "source": [
        "pca = PCA(n_components = 2) #(14) debe ser menor o igual que el numero de columnas (14)\n",
        "projecta = pca.fit_transform(Xt)\n",
        "print(Xt.shape)\n",
        "print(projecta.shape)"
      ],
      "execution_count": 88,
      "outputs": [
        {
          "output_type": "stream",
          "text": [
            "(20631, 14)\n",
            "(20631, 2)\n"
          ],
          "name": "stdout"
        }
      ]
    },
    {
      "cell_type": "code",
      "metadata": {
        "id": "jD27tisAOR7e",
        "colab_type": "code",
        "colab": {
          "base_uri": "https://localhost:8080/",
          "height": 286
        },
        "outputId": "4ff3c7a9-1feb-4bb5-98cb-8922671e044c"
      },
      "source": [
        "plt.scatter(projecta[:,0], projecta[:,1], c=dfTrainZ.label_mcc, edgecolor='none', alpha=0.7, cmap=plt.cm.get_cmap('Set2',10))\n",
        "plt.colorbar()"
      ],
      "execution_count": 94,
      "outputs": [
        {
          "output_type": "execute_result",
          "data": {
            "text/plain": [
              "<matplotlib.colorbar.Colorbar at 0x7f645c571860>"
            ]
          },
          "metadata": {
            "tags": []
          },
          "execution_count": 94
        },
        {
          "output_type": "display_data",
          "data": {
            "image/png": "[encoded data removed]",
            "text/plain": [
              "<Figure size 432x288 with 2 Axes>"
            ]
          },
          "metadata": {
            "tags": []
          }
        }
      ]
    }
  ]
}